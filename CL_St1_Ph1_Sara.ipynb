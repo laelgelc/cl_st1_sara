{
 "cells": [
  {
   "cell_type": "markdown",
   "id": "810d9f10-ec19-4b09-8f90-e983e460b319",
   "metadata": {},
   "source": [
    "<center>\n",
    "<img src=\"https://laelgelcpublic.s3.sa-east-1.amazonaws.com/lael_50_years_narrow_white.png.no_years.400px_96dpi.png\" width=\"300\" alt=\"LAEL 50 years logo\">\n",
    "<h3>APPLIED LINGUISTICS GRADUATE PROGRAMME (LAEL)</h3>\n",
    "</center>\n",
    "<hr>"
   ]
  },
  {
   "cell_type": "markdown",
   "id": "888c2c96-2fc3-4a1a-995b-c388036a2a15",
   "metadata": {},
   "source": "# Corpus Linguistics - Study 1 - Phase 1 - Sara"
  },
  {
   "metadata": {},
   "cell_type": "markdown",
   "source": "The purpose of this document is to extract a sample of 1000 texts from the [4000 stories with sentiment analysis dataset](https://brunel.figshare.com/articles/dataset/4000_stories_with_sentiment_analysis_dataset/7712540?file=14357549) balanced across `author`.",
   "id": "42c7534fee7373a6"
  },
  {
   "cell_type": "markdown",
   "id": "50976282-3c48-4a64-a25c-0575bf379f25",
   "metadata": {},
   "source": "## What is the `4000 stories with sentiment analysis dataset`?"
  },
  {
   "cell_type": "markdown",
   "id": "60552836-4e24-45fa-a537-692248055ea1",
   "metadata": {},
   "source": "This dataset presents 4,000 short stories that have been classified in terms of their emotional content and semantic structure. Emotional content was calculated using the valence, arousal and dominance norms in Warriner et al. (2014). Semantic structure was derived using the doc2vec algorithm, which classifies each text as a 300-place vector. The authors created this dataset as part of a study of the impact of narrative literature on mental health."
  },
  {
   "cell_type": "markdown",
   "id": "a685d8b0-7715-45a6-9489-2d3db9b346c8",
   "metadata": {},
   "source": [
    "## Required Python packages"
   ]
  },
  {
   "cell_type": "markdown",
   "id": "c0e16e73-b1b9-4838-8cce-a29dc300868e",
   "metadata": {},
   "source": [
    "- <>\n",
    "- <>"
   ]
  },
  {
   "cell_type": "markdown",
   "id": "aa922755-c4d6-4008-9aad-d35e33b18ed7",
   "metadata": {},
   "source": [
    "## Importing the required libraries"
   ]
  },
  {
   "cell_type": "code",
   "execution_count": null,
   "id": "06ebcaf3-5b41-474c-9394-ebc8bec9005f",
   "metadata": {},
   "outputs": [],
   "source": []
  }
 ],
 "metadata": {
  "jupytext": {
   "formats": "ipynb,py:percent"
  },
  "kernelspec": {
   "display_name": "Python 3 (ipykernel)",
   "language": "python",
   "name": "python3"
  },
  "language_info": {
   "codemirror_mode": {
    "name": "ipython",
    "version": 3
   },
   "file_extension": ".py",
   "mimetype": "text/x-python",
   "name": "python",
   "nbconvert_exporter": "python",
   "pygments_lexer": "ipython3",
   "version": "3.12.11"
  }
 },
 "nbformat": 4,
 "nbformat_minor": 5
}
